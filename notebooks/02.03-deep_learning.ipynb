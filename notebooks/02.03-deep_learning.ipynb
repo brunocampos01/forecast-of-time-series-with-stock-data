{
 "cells": [
  {
   "cell_type": "markdown",
   "metadata": {},
   "source": [
    "# Deep Learning Model\n",
    "Neste notebook tem os seguintes modelos de aprendizado de máquina comparados:\n",
    "- LSTM"
   ]
  },
  {
   "cell_type": "markdown",
   "metadata": {},
   "source": [
    "## Imports"
   ]
  },
  {
   "cell_type": "code",
   "execution_count": 5,
   "metadata": {},
   "outputs": [],
   "source": [
    "# Data analysis and data wrangling\n",
    "import numpy as np\n",
    "import pandas as pd\n",
    "\n",
    "# Preprocessing\n",
    "from sklearn.preprocessing import MinMaxScaler\n",
    "\n",
    "# Plotting\n",
    "import seaborn as sns\n",
    "import matplotlib.pyplot as plt\n",
    "\n",
    "# deep learning\n",
    "from keras.models import Sequential\n",
    "from keras.layers import Dense\n",
    "from keras.layers import LSTM\n",
    "from keras.layers import Dropout\n",
    "import tensorflow as tf\n",
    "\n",
    "# Other\n",
    "from IPython.display import Image\n",
    "import warnings\n",
    "import pprint\n",
    "import datetime\n",
    "import os\n",
    "import datetime"
   ]
  },
  {
   "cell_type": "code",
   "execution_count": 35,
   "metadata": {},
   "outputs": [],
   "source": [
    "# os.environ['TENSORBOARD_BINARY'] = '$HOME/projects/artificial_inteligence/venv/bin/tensorboard'"
   ]
  },
  {
   "cell_type": "code",
   "execution_count": 36,
   "metadata": {},
   "outputs": [
    {
     "name": "stdout",
     "output_type": "stream",
     "text": [
      "tf-estimator-nightly   2.4.0.dev2020102301\n",
      "tf-nightly             2.5.0.dev20201126  \n"
     ]
    }
   ],
   "source": [
    "# Load the TensorBoard notebook extension.\n",
    "%load_ext tensorboard\n",
    "\n",
    "# Clear any logs from previous runs\n",
    "!rm -rf ./logs/ \n",
    "\n",
    "!python3 -m pip list | grep tf\n",
    "# tb-nightly           1.15.0a20190806"
   ]
  },
  {
   "cell_type": "code",
   "execution_count": 64,
   "metadata": {},
   "outputs": [],
   "source": [
    "# logs_base_dir = \"./logs\"\n",
    "# os.makedirs(logs_base_dir, exist_ok=True)\n",
    "# %tensorboard --logdir {logs_base_dir}"
   ]
  },
  {
   "cell_type": "markdown",
   "metadata": {},
   "source": [
    "## Prepare Principal Directory"
   ]
  },
  {
   "cell_type": "code",
   "execution_count": 37,
   "metadata": {},
   "outputs": [],
   "source": [
    "def prepare_directory_work(end_directory: str='notebooks'):\n",
    "    # Current path\n",
    "    curr_dir = os.path.dirname (os.path.realpath (\"__file__\")) \n",
    "    \n",
    "    if curr_dir.endswith(end_directory):\n",
    "        os.chdir('..')\n",
    "        return curr_dir\n",
    "    \n",
    "    return f'Current working directory: {curr_dir}' "
   ]
  },
  {
   "cell_type": "code",
   "execution_count": 38,
   "metadata": {},
   "outputs": [
    {
     "data": {
      "text/plain": [
       "'Current working directory: /home/campos/projects/tcc'"
      ]
     },
     "execution_count": 38,
     "metadata": {},
     "output_type": "execute_result"
    }
   ],
   "source": [
    "prepare_directory_work(end_directory='notebooks')"
   ]
  },
  {
   "cell_type": "markdown",
   "metadata": {},
   "source": [
    "## Cell Format"
   ]
  },
  {
   "cell_type": "code",
   "execution_count": 39,
   "metadata": {},
   "outputs": [
    {
     "name": "stdout",
     "output_type": "stream",
     "text": [
      "The autoreload extension is already loaded. To reload it, use:\n",
      "  %reload_ext autoreload\n"
     ]
    }
   ],
   "source": [
    "# OPTIONAL: Load the \"autoreload\" extension so that code can change\n",
    "%load_ext autoreload\n",
    "\n",
    "# Guarantees visualization inside the jupyter\n",
    "%matplotlib inline\n",
    "\n",
    "# Print xxxx rows and columns\n",
    "pd.set_option('display.max_rows', None)\n",
    "pd.set_option('display.max_columns', None)\n",
    "pd.set_option('float_format', '{:f}'.format)\n",
    "pd.set_option('display.float_format', '{:.5}'.format)\n",
    "\n",
    "# Supress unnecessary warnings so that presentation looks clean\n",
    "warnings.filterwarnings('ignore')\n",
    "\n",
    "# pretty print\n",
    "pp = pprint.PrettyPrinter(indent=4)"
   ]
  },
  {
   "cell_type": "code",
   "execution_count": 40,
   "metadata": {},
   "outputs": [],
   "source": [
    "plt.style.use('seaborn')  # fivethirtyeight\n",
    "plt.rc('figure',figsize=(16,8))\n",
    "plt.rc('font',size=15)\n",
    "plt.rc('legend',fontsize=15)\n",
    "\n",
    "# Seaborn rcParams\n",
    "# ===================\n",
    "sns.set(context='poster',  # notebook\n",
    "        style='darkgrid',\n",
    "        palette='deep',\n",
    "        color_codes=True)\n",
    "\n",
    "# graph style\n",
    "sns.set(style='dark', palette='deep')\n",
    "\n",
    "plt.style.use('fivethirtyeight')"
   ]
  },
  {
   "cell_type": "markdown",
   "metadata": {},
   "source": [
    "## Load Data"
   ]
  },
  {
   "cell_type": "code",
   "execution_count": 41,
   "metadata": {},
   "outputs": [
    {
     "name": "stdout",
     "output_type": "stream",
     "text": [
      "Tokenization took: 0.62 ms\n",
      "Type conversion took: 1.40 ms\n",
      "Parser memory cleanup took: 0.00 ms\n",
      "CPU times: user 5.94 ms, sys: 454 µs, total: 6.4 ms\n",
      "Wall time: 5.57 ms\n"
     ]
    }
   ],
   "source": [
    "%%time\n",
    "\n",
    "df_vale3 = pd.read_csv('data/cleansing/df_vale3_cleansing.csv',\n",
    "                        encoding='utf8',\n",
    "                        delimiter=',',\n",
    "                        verbose=True)"
   ]
  },
  {
   "cell_type": "code",
   "execution_count": 42,
   "metadata": {},
   "outputs": [
    {
     "name": "stdout",
     "output_type": "stream",
     "text": [
      "<class 'pandas.core.frame.DataFrame'>\n",
      "RangeIndex: 2495 entries, 0 to 2494\n",
      "Data columns (total 9 columns):\n",
      " #   Column  Non-Null Count  Dtype  \n",
      "---  ------  --------------  -----  \n",
      " 0   date    2495 non-null   object \n",
      " 1   price   2495 non-null   float64\n",
      " 2   open    2495 non-null   float64\n",
      " 3   high    2495 non-null   float64\n",
      " 4   low     2495 non-null   float64\n",
      " 5   volume  2495 non-null   float64\n",
      " 6   year    2495 non-null   int64  \n",
      " 7   month   2495 non-null   int64  \n",
      " 8   day     2495 non-null   int64  \n",
      "dtypes: float64(5), int64(3), object(1)\n",
      "memory usage: 175.6+ KB\n",
      "None\n"
     ]
    }
   ],
   "source": [
    "print(df_vale3.info())"
   ]
  },
  {
   "cell_type": "code",
   "execution_count": 43,
   "metadata": {},
   "outputs": [
    {
     "data": {
      "text/html": [
       "<div>\n",
       "<style scoped>\n",
       "    .dataframe tbody tr th:only-of-type {\n",
       "        vertical-align: middle;\n",
       "    }\n",
       "\n",
       "    .dataframe tbody tr th {\n",
       "        vertical-align: top;\n",
       "    }\n",
       "\n",
       "    .dataframe thead th {\n",
       "        text-align: right;\n",
       "    }\n",
       "</style>\n",
       "<table border=\"1\" class=\"dataframe\">\n",
       "  <thead>\n",
       "    <tr style=\"text-align: right;\">\n",
       "      <th></th>\n",
       "      <th>date</th>\n",
       "      <th>price</th>\n",
       "      <th>open</th>\n",
       "      <th>high</th>\n",
       "      <th>low</th>\n",
       "      <th>volume</th>\n",
       "      <th>year</th>\n",
       "      <th>month</th>\n",
       "      <th>day</th>\n",
       "    </tr>\n",
       "  </thead>\n",
       "  <tbody>\n",
       "    <tr>\n",
       "      <th>0</th>\n",
       "      <td>2020-06-19</td>\n",
       "      <td>55.17</td>\n",
       "      <td>56.33</td>\n",
       "      <td>56.6</td>\n",
       "      <td>54.71</td>\n",
       "      <td>37.86</td>\n",
       "      <td>2020</td>\n",
       "      <td>6</td>\n",
       "      <td>19</td>\n",
       "    </tr>\n",
       "    <tr>\n",
       "      <th>1</th>\n",
       "      <td>2020-06-18</td>\n",
       "      <td>56.17</td>\n",
       "      <td>56.3</td>\n",
       "      <td>56.54</td>\n",
       "      <td>55.61</td>\n",
       "      <td>25.69</td>\n",
       "      <td>2020</td>\n",
       "      <td>6</td>\n",
       "      <td>18</td>\n",
       "    </tr>\n",
       "    <tr>\n",
       "      <th>2</th>\n",
       "      <td>2020-06-17</td>\n",
       "      <td>56.2</td>\n",
       "      <td>55.49</td>\n",
       "      <td>56.44</td>\n",
       "      <td>55.15</td>\n",
       "      <td>27.57</td>\n",
       "      <td>2020</td>\n",
       "      <td>6</td>\n",
       "      <td>17</td>\n",
       "    </tr>\n",
       "    <tr>\n",
       "      <th>3</th>\n",
       "      <td>2020-06-16</td>\n",
       "      <td>55.39</td>\n",
       "      <td>55.49</td>\n",
       "      <td>55.5</td>\n",
       "      <td>54.22</td>\n",
       "      <td>29.17</td>\n",
       "      <td>2020</td>\n",
       "      <td>6</td>\n",
       "      <td>16</td>\n",
       "    </tr>\n",
       "    <tr>\n",
       "      <th>4</th>\n",
       "      <td>2020-06-15</td>\n",
       "      <td>53.88</td>\n",
       "      <td>52.5</td>\n",
       "      <td>54.43</td>\n",
       "      <td>52.13</td>\n",
       "      <td>27.32</td>\n",
       "      <td>2020</td>\n",
       "      <td>6</td>\n",
       "      <td>15</td>\n",
       "    </tr>\n",
       "  </tbody>\n",
       "</table>\n",
       "</div>"
      ],
      "text/plain": [
       "         date  price  open  high   low  volume  year  month  day\n",
       "0  2020-06-19  55.17 56.33  56.6 54.71   37.86  2020      6   19\n",
       "1  2020-06-18  56.17  56.3 56.54 55.61   25.69  2020      6   18\n",
       "2  2020-06-17   56.2 55.49 56.44 55.15   27.57  2020      6   17\n",
       "3  2020-06-16  55.39 55.49  55.5 54.22   29.17  2020      6   16\n",
       "4  2020-06-15  53.88  52.5 54.43 52.13   27.32  2020      6   15"
      ]
     },
     "execution_count": 43,
     "metadata": {},
     "output_type": "execute_result"
    }
   ],
   "source": [
    "df_vale3.head()"
   ]
  },
  {
   "cell_type": "markdown",
   "metadata": {},
   "source": [
    "## Columns"
   ]
  },
  {
   "cell_type": "code",
   "execution_count": 44,
   "metadata": {},
   "outputs": [
    {
     "data": {
      "text/plain": [
       "Index(['date', 'price', 'open', 'high', 'low', 'volume', 'year', 'month',\n",
       "       'day'],\n",
       "      dtype='object')"
      ]
     },
     "execution_count": 44,
     "metadata": {},
     "output_type": "execute_result"
    }
   ],
   "source": [
    "df_vale3.columns"
   ]
  },
  {
   "cell_type": "markdown",
   "metadata": {},
   "source": [
    "## Format Date"
   ]
  },
  {
   "cell_type": "code",
   "execution_count": 45,
   "metadata": {},
   "outputs": [],
   "source": [
    "df_vale3.drop(['date'], axis=1, inplace=True)"
   ]
  },
  {
   "cell_type": "markdown",
   "metadata": {},
   "source": [
    "---"
   ]
  },
  {
   "cell_type": "markdown",
   "metadata": {},
   "source": [
    "## Metric to Evaluation"
   ]
  },
  {
   "cell_type": "code",
   "execution_count": 46,
   "metadata": {},
   "outputs": [],
   "source": [
    "def mean_absolute_percentage_error(y_true, y_pred):\n",
    "    y_true, y_pred = np.array(y_true), np.array(y_pred)\n",
    "    return np.mean(np.abs((y_true - y_pred) / y_true)) * 100"
   ]
  },
  {
   "cell_type": "markdown",
   "metadata": {},
   "source": [
    "---"
   ]
  },
  {
   "cell_type": "markdown",
   "metadata": {},
   "source": [
    "## Save Results"
   ]
  },
  {
   "cell_type": "code",
   "execution_count": 48,
   "metadata": {},
   "outputs": [],
   "source": [
    "dict_results = {}"
   ]
  },
  {
   "cell_type": "markdown",
   "metadata": {},
   "source": [
    "## Show Results"
   ]
  },
  {
   "cell_type": "code",
   "execution_count": 49,
   "metadata": {},
   "outputs": [],
   "source": [
    "def show_result_model(df_train, df_test, y_forecast, model_name):\n",
    "    future_forecast = pd.DataFrame(y_forecast,\n",
    "                                   index=df_test.index,\n",
    "                                   columns=['Previsão'])\n",
    "    mape = mean_absolute_percentage_error(df_test, y_forecast)\n",
    "    dict_results[model_name] = mape\n",
    "    \n",
    "    # plot\n",
    "    pd.concat([df_train, df_test, future_forecast], axis=1).plot()\n",
    "\n",
    "    plt.legend()\n",
    "    plt.grid(True)\n",
    "    plt.xlabel(\"Time (Days)\")\n",
    "    plt.ylabel(\"Price (R$)\")\n",
    "    plt.title(f'MAPE = {mape} %')"
   ]
  },
  {
   "cell_type": "code",
   "execution_count": 50,
   "metadata": {},
   "outputs": [],
   "source": [
    "# Some functions to help out with\n",
    "def plot_predictions(test,predicted):\n",
    "    plt.plot(test, color='red',label='Real Amazon Stock Price')\n",
    "    plt.plot(predicted, color='blue',label='Predicted Amazon Stock Price')\n",
    "    plt.title('Amazon Stock Price Prediction')\n",
    "    plt.xlabel('Time')\n",
    "    plt.ylabel('Amazon Stock Price')\n",
    "    plt.legend()\n",
    "    plt.show()"
   ]
  },
  {
   "cell_type": "markdown",
   "metadata": {},
   "source": [
    "---"
   ]
  },
  {
   "cell_type": "markdown",
   "metadata": {},
   "source": [
    "## Train and Test"
   ]
  },
  {
   "cell_type": "code",
   "execution_count": 51,
   "metadata": {},
   "outputs": [
    {
     "name": "stdout",
     "output_type": "stream",
     "text": [
      "1996\n",
      "499\n",
      "(1996, 8)\n",
      "(499, 8)\n"
     ]
    }
   ],
   "source": [
    "size_train = int(len(df_vale3)*0.8)\n",
    "size_test = int(len(df_vale3)*0.2)\n",
    "print(size_train)\n",
    "print(size_test)\n",
    "\n",
    "train = df_vale3.iloc[size_test:]\n",
    "test = df_vale3.iloc[:size_test]\n",
    "print(train.shape)\n",
    "print(test.shape)"
   ]
  },
  {
   "cell_type": "markdown",
   "metadata": {},
   "source": [
    "---"
   ]
  },
  {
   "cell_type": "markdown",
   "metadata": {},
   "source": [
    "## Normalize Data"
   ]
  },
  {
   "cell_type": "code",
   "execution_count": 52,
   "metadata": {},
   "outputs": [],
   "source": [
    "train_max = train.max()\n",
    "train_min = train.min()\n",
    "\n",
    "train = (train - train_min)/(train_max - train_min)\n",
    "test = (test - train_min)/(train_max - train_min)"
   ]
  },
  {
   "cell_type": "code",
   "execution_count": 53,
   "metadata": {},
   "outputs": [],
   "source": [
    "def create_dataset(X, y, time_steps=1):\n",
    "    Xs, ys = [], []\n",
    "    \n",
    "    for i in range(len(X) - time_steps):\n",
    "        v = X.iloc[i:(i + time_steps)].values\n",
    "        Xs.append(v)        \n",
    "        ys.append(y.iloc[i + time_steps])\n",
    "    \n",
    "    return np.array(Xs).astype('float32'), np.array(ys).astype('float32')"
   ]
  },
  {
   "cell_type": "code",
   "execution_count": 54,
   "metadata": {},
   "outputs": [],
   "source": [
    "time_steps = 30\n",
    "\n",
    "X_train, y_train = create_dataset(train, train['price'], time_steps)\n",
    "X_test, y_test = create_dataset(test, test['price'], time_steps)"
   ]
  },
  {
   "cell_type": "markdown",
   "metadata": {},
   "source": [
    "### Handling index"
   ]
  },
  {
   "cell_type": "code",
   "execution_count": 55,
   "metadata": {},
   "outputs": [],
   "source": [
    "X_train = X_train[::-1]\n",
    "y_train = y_train[::-1]\n",
    "\n",
    "X_test = X_test[::-1]\n",
    "y_test = y_test[::-1]"
   ]
  },
  {
   "cell_type": "markdown",
   "metadata": {},
   "source": [
    "---"
   ]
  },
  {
   "cell_type": "markdown",
   "metadata": {},
   "source": [
    "## LSTM"
   ]
  },
  {
   "cell_type": "code",
   "execution_count": 56,
   "metadata": {},
   "outputs": [
    {
     "data": {
      "text/plain": [
       "<tensorflow.python.keras.engine.sequential.Sequential at 0x7f221c3492e0>"
      ]
     },
     "execution_count": 56,
     "metadata": {},
     "output_type": "execute_result"
    }
   ],
   "source": [
    "# sequential model\n",
    "model_lstm = Sequential(name='lstm_vale3')\n",
    "model_lstm"
   ]
  },
  {
   "cell_type": "markdown",
   "metadata": {},
   "source": [
    "#### Input Layer"
   ]
  },
  {
   "cell_type": "code",
   "execution_count": 57,
   "metadata": {},
   "outputs": [],
   "source": [
    "#Adding the first LSTM layer and some Dropout regularisation\n",
    "model_lstm.add(LSTM(units=50, return_sequences=True, input_shape=(X_train.shape[1], X_train.shape[2])))\n",
    "model_lstm.add(Dropout(0.2))"
   ]
  },
  {
   "cell_type": "markdown",
   "metadata": {},
   "source": [
    "#### Hidden Layers"
   ]
  },
  {
   "cell_type": "code",
   "execution_count": 58,
   "metadata": {},
   "outputs": [],
   "source": [
    "# Adding a second LSTM layer and some Dropout regularisation\n",
    "model_lstm.add(LSTM(units=50, return_sequences=True))\n",
    "model_lstm.add(Dropout(0.2))\n",
    "\n",
    "# Adding a third LSTM layer and some Dropout regularisation\n",
    "model_lstm.add(LSTM(units=50, return_sequences=True))\n",
    "model_lstm.add(Dropout(0.2))\n",
    "\n",
    "# Adding a fourth LSTM layer and some Dropout regularisation\n",
    "model_lstm.add(LSTM(units=50))\n",
    "model_lstm.add(Dropout(0.2))"
   ]
  },
  {
   "cell_type": "markdown",
   "metadata": {},
   "source": [
    "#### Output Layer"
   ]
  },
  {
   "cell_type": "code",
   "execution_count": 59,
   "metadata": {},
   "outputs": [],
   "source": [
    "model_lstm.add(Dense(units=1))"
   ]
  },
  {
   "cell_type": "markdown",
   "metadata": {},
   "source": [
    "### Compile"
   ]
  },
  {
   "cell_type": "code",
   "execution_count": 60,
   "metadata": {},
   "outputs": [],
   "source": [
    "model_lstm.compile(loss='mean_squared_error',\n",
    "                   optimizer='adam',\n",
    "                   metrics=['accuracy'])"
   ]
  },
  {
   "cell_type": "markdown",
   "metadata": {},
   "source": [
    "### Summary"
   ]
  },
  {
   "cell_type": "code",
   "execution_count": 61,
   "metadata": {},
   "outputs": [
    {
     "name": "stdout",
     "output_type": "stream",
     "text": [
      "Model: \"lstm_vale3\"\n",
      "_________________________________________________________________\n",
      "Layer (type)                 Output Shape              Param #   \n",
      "=================================================================\n",
      "lstm_4 (LSTM)                (None, 30, 50)            11800     \n",
      "_________________________________________________________________\n",
      "dropout_4 (Dropout)          (None, 30, 50)            0         \n",
      "_________________________________________________________________\n",
      "lstm_5 (LSTM)                (None, 30, 50)            20200     \n",
      "_________________________________________________________________\n",
      "dropout_5 (Dropout)          (None, 30, 50)            0         \n",
      "_________________________________________________________________\n",
      "lstm_6 (LSTM)                (None, 30, 50)            20200     \n",
      "_________________________________________________________________\n",
      "dropout_6 (Dropout)          (None, 30, 50)            0         \n",
      "_________________________________________________________________\n",
      "lstm_7 (LSTM)                (None, 50)                20200     \n",
      "_________________________________________________________________\n",
      "dropout_7 (Dropout)          (None, 50)                0         \n",
      "_________________________________________________________________\n",
      "dense_1 (Dense)              (None, 1)                 51        \n",
      "=================================================================\n",
      "Total params: 72,451\n",
      "Trainable params: 72,451\n",
      "Non-trainable params: 0\n",
      "_________________________________________________________________\n"
     ]
    }
   ],
   "source": [
    "model_lstm.summary()"
   ]
  },
  {
   "cell_type": "markdown",
   "metadata": {},
   "source": [
    "### Trainning\n",
    "- batch_size: cria lote de treinamento de 30 em 30 dias"
   ]
  },
  {
   "cell_type": "code",
   "execution_count": 66,
   "metadata": {},
   "outputs": [
    {
     "name": "stdout",
     "output_type": "stream",
     "text": [
      "CPU times: user 27.1 s, sys: 2.33 s, total: 29.4 s\n",
      "Wall time: 7.76 s\n"
     ]
    },
    {
     "data": {
      "text/plain": [
       "<tensorflow.python.keras.callbacks.History at 0x7f21eca56580>"
      ]
     },
     "execution_count": 66,
     "metadata": {},
     "output_type": "execute_result"
    }
   ],
   "source": [
    "%%time\n",
    "\n",
    "\n",
    "history = model_lstm.fit(X_train,\n",
    "               y_train,\n",
    "               epochs=1000,\n",
    "               batch_size=300,\n",
    "               shuffle=False,\n",
    "               validation_split=0.1,\n",
    "               verbose=0)\n",
    "history"
   ]
  },
  {
   "cell_type": "code",
   "execution_count": 659,
   "metadata": {},
   "outputs": [
    {
     "name": "stdout",
     "output_type": "stream",
     "text": [
      "dict_keys(['loss', 'accuracy', 'val_loss', 'val_accuracy'])\n"
     ]
    }
   ],
   "source": [
    "print(history.history.keys())"
   ]
  },
  {
   "cell_type": "code",
   "execution_count": 679,
   "metadata": {},
   "outputs": [
    {
     "data": {
      "text/plain": [
       "9976"
      ]
     },
     "execution_count": 679,
     "metadata": {},
     "output_type": "execute_result"
    }
   ],
   "source": [
    "best_epochs = history.history[\"loss\"].index(min(history.history[\"loss\"]))\n",
    "best_epochs"
   ]
  },
  {
   "cell_type": "code",
   "execution_count": 681,
   "metadata": {},
   "outputs": [
    {
     "data": {
      "image/png": "[encoded data removed]",
      "text/plain": [
       "<Figure size 1152x576 with 1 Axes>"
      ]
     },
     "metadata": {},
     "output_type": "display_data"
    }
   ],
   "source": [
    "plt.plot(history.history[\"loss\"], label=\"Training Loss\")\n",
    "plt.title('loss')\n",
    "plt.legend()\n",
    "plt.show()"
   ]
  },
  {
   "cell_type": "markdown",
   "metadata": {},
   "source": [
    "### Predict"
   ]
  },
  {
   "cell_type": "code",
   "execution_count": 662,
   "metadata": {},
   "outputs": [],
   "source": [
    "y_pred = model_lstm.predict(X_test)"
   ]
  },
  {
   "cell_type": "code",
   "execution_count": 663,
   "metadata": {},
   "outputs": [],
   "source": [
    "# Rescale the data back to the original scale\n",
    "y_test = y_test*(train_max[0] - train_min[0]) + train_min[0]\n",
    "y_pred = y_pred*(train_max[0] - train_min[0]) + train_min[0]\n",
    "y_train = y_train*(train_max[0] - train_min[0]) + train_min[0]"
   ]
  },
  {
   "cell_type": "code",
   "execution_count": 664,
   "metadata": {},
   "outputs": [
    {
     "data": {
      "text/plain": [
       "469"
      ]
     },
     "execution_count": 664,
     "metadata": {},
     "output_type": "execute_result"
    }
   ],
   "source": [
    "y_test_lstm = [y_test[row] for row in range(0, len(y_test))]\n",
    "len(y_test)"
   ]
  },
  {
   "cell_type": "code",
   "execution_count": 665,
   "metadata": {},
   "outputs": [
    {
     "data": {
      "text/plain": [
       "469"
      ]
     },
     "execution_count": 665,
     "metadata": {},
     "output_type": "execute_result"
    }
   ],
   "source": [
    "y_pred_lstm = [y_pred[row][0] for row in range(0, len(y_pred))]\n",
    "len(y_pred_lstm)"
   ]
  },
  {
   "cell_type": "code",
   "execution_count": 666,
   "metadata": {},
   "outputs": [],
   "source": [
    "mape = mean_absolute_percentage_error(y_test, y_pred_lstm)\n",
    "dict_results['lstm'] = mape"
   ]
  },
  {
   "cell_type": "code",
   "execution_count": 667,
   "metadata": {},
   "outputs": [
    {
     "data": {
      "text/plain": [
       "Text(0.5, 1.0, 'MAPE = 5.942042917013168 %')"
      ]
     },
     "execution_count": 667,
     "metadata": {},
     "output_type": "execute_result"
    },
    {
     "data": {
      "image/png": "[encoded data removed]",
      "text/plain": [
       "<Figure size 1152x576 with 1 Axes>"
      ]
     },
     "metadata": {},
     "output_type": "display_data"
    }
   ],
   "source": [
    "# Plotting the results\n",
    "plt.plot(np.arange(len(y_train), len(y_train) + len(y_test)),\n",
    "         y_test_lstm,\n",
    "         marker='.', \n",
    "         label=\"price (test)\")\n",
    "plt.plot(np.arange(len(y_train), len(y_train) + len(y_test)),\n",
    "         y_pred_lstm,\n",
    "         'r',\n",
    "         marker='.', \n",
    "         label=\"predict\")\n",
    "plt.plot(np.arange(0, len(y_train)), y_train.flatten(),\n",
    "         'g',\n",
    "         marker='.', \n",
    "         label=\"price (train)\")\n",
    "\n",
    "plt.legend()\n",
    "plt.grid(True)\n",
    "plt.xlabel(\"Time (Days)\")\n",
    "plt.ylabel(\"Price (R$)\")\n",
    "plt.title(f'MAPE = {mape} %')"
   ]
  },
  {
   "cell_type": "markdown",
   "metadata": {},
   "source": [
    "---"
   ]
  },
  {
   "cell_type": "markdown",
   "metadata": {},
   "source": [
    "## Results"
   ]
  },
  {
   "cell_type": "code",
   "execution_count": 678,
   "metadata": {},
   "outputs": [
    {
     "data": {
      "text/plain": [
       "{}"
      ]
     },
     "execution_count": 678,
     "metadata": {},
     "output_type": "execute_result"
    }
   ],
   "source": [
    "dict_results"
   ]
  },
  {
   "cell_type": "markdown",
   "metadata": {},
   "source": [
    "---"
   ]
  }
 ],
 "metadata": {
  "kernelspec": {
   "display_name": "Python 3",
   "language": "python",
   "name": "python3"
  },
  "language_info": {
   "codemirror_mode": {
    "name": "ipython",
    "version": 3
   },
   "file_extension": ".py",
   "mimetype": "text/x-python",
   "name": "python",
   "nbconvert_exporter": "python",
   "pygments_lexer": "ipython3",
   "version": "3.8.5"
  }
 },
 "nbformat": 4,
 "nbformat_minor": 4
}
